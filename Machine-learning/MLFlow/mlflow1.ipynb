{
 "cells": [
  {
   "cell_type": "code",
   "execution_count": 58,
   "id": "6ff06ea1-3cf5-477c-890d-243ba3a5c26e",
   "metadata": {},
   "outputs": [],
   "source": [
    "import mlflow\n",
    "import mlflow.sklearn\n",
    "from sklearn.datasets import load_iris\n",
    "from sklearn.ensemble import RandomForestClassifier\n",
    "from sklearn.model_selection import train_test_split\n",
    "from sklearn.metrics import accuracy_score,precision_score\n",
    "import numpy as np"
   ]
  },
  {
   "cell_type": "code",
   "execution_count": 59,
   "id": "5ebab14e-b5a7-4448-8bc3-ad681745d68b",
   "metadata": {},
   "outputs": [
    {
     "data": {
      "text/plain": [
       "<Experiment: artifact_location='file:///C:/Users/Komati%20Satya/mlruns/844404202490652400', creation_time=1717589063130, experiment_id='844404202490652400', last_update_time=1717589063130, lifecycle_stage='active', name='mlflow1', tags={}>"
      ]
     },
     "execution_count": 59,
     "metadata": {},
     "output_type": "execute_result"
    }
   ],
   "source": [
    "mlflow.set_experiment(\"mlflow1\")"
   ]
  },
  {
   "cell_type": "code",
   "execution_count": 69,
   "id": "1bf7976a-3c73-4247-afd3-f9d19d27a926",
   "metadata": {},
   "outputs": [],
   "source": [
    "def train_model(estimators,criterion):\n",
    "    \n",
    "    iris = load_iris()\n",
    "    X = iris.data\n",
    "    y = iris.target\n",
    "    X_train, X_test, y_train, y_test = train_test_split(X, y, test_size=0.2, random_state=42)\n",
    "    with mlflow.start_run():\n",
    "        clf = RandomForestClassifier(n_estimators=estimators, criterion=criterion)\n",
    "        clf.fit(X_train, y_train)\n",
    "        y_pred=clf.predict(X_test)\n",
    "        accuracy = accuracy_score(y_test, y_pred)\n",
    "    \n",
    "        print(\"  Accuracy: %s\" % accuracy)\n",
    "       \n",
    "        # Log parameters and metrics\n",
    "        mlflow.log_params({\"n_estimators\": clf.n_estimators, \"max_depth\": clf.max_depth})\n",
    "        mlflow.log_metric(\"accuracy\", clf.score(X_test, y_test))"
   ]
  },
  {
   "cell_type": "code",
   "execution_count": 70,
   "id": "03df29f0-933f-4b4d-9721-0edad15cf918",
   "metadata": {},
   "outputs": [
    {
     "name": "stdout",
     "output_type": "stream",
     "text": [
      "  Accuracy: 1.0\n"
     ]
    }
   ],
   "source": [
    "train_model(600,'gini')"
   ]
  },
  {
   "cell_type": "code",
   "execution_count": 71,
   "id": "019e35a6-4101-45f9-abc4-e21b957c3eff",
   "metadata": {},
   "outputs": [
    {
     "name": "stdout",
     "output_type": "stream",
     "text": [
      "  Accuracy: 1.0\n"
     ]
    }
   ],
   "source": [
    "train_model(10,'gini')"
   ]
  },
  {
   "cell_type": "code",
   "execution_count": null,
   "id": "69a7e232-2146-4d90-8181-be76ea7713c4",
   "metadata": {},
   "outputs": [],
   "source": []
  }
 ],
 "metadata": {
  "kernelspec": {
   "display_name": "Python 3 (ipykernel)",
   "language": "python",
   "name": "python3"
  },
  "language_info": {
   "codemirror_mode": {
    "name": "ipython",
    "version": 3
   },
   "file_extension": ".py",
   "mimetype": "text/x-python",
   "name": "python",
   "nbconvert_exporter": "python",
   "pygments_lexer": "ipython3",
   "version": "3.12.1"
  }
 },
 "nbformat": 4,
 "nbformat_minor": 5
}
