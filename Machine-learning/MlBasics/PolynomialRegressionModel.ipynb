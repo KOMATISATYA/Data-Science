{
 "cells": [
  {
   "cell_type": "code",
   "execution_count": 4,
   "id": "8e8fe9dc-a2b1-414c-8817-b5b49d47ae09",
   "metadata": {},
   "outputs": [],
   "source": [
    "import numpy as np\n",
    "import pandas as pd\n",
    "import matplotlib.pyplot as plt\n",
    "%matplotlib inline"
   ]
  },
  {
   "cell_type": "code",
   "execution_count": 5,
   "id": "8ff2bd04-6b6c-4758-bff5-d1f73f3f03b1",
   "metadata": {},
   "outputs": [
    {
     "data": {
      "text/plain": [
       "<matplotlib.collections.PathCollection at 0x16f9c0bd9a0>"
      ]
     },
     "execution_count": 5,
     "metadata": {},
     "output_type": "execute_result"
    },
    {
     "data": {
      "image/png": "[encoded data removed]",
      "text/plain": [
       "<Figure size 640x480 with 1 Axes>"
      ]
     },
     "metadata": {},
     "output_type": "display_data"
    }
   ],
   "source": [
    "X=6*np.random.rand(100,1)-3\n",
    "y=0.5* X**2 +1.4*X+2+np.random.rand(100,1)\n",
    "plt.scatter(X,y,color='g')"
   ]
  },
  {
   "cell_type": "code",
   "execution_count": 6,
   "id": "167dc169-166b-4592-99af-93d7b4702672",
   "metadata": {},
   "outputs": [],
   "source": [
    "from sklearn.model_selection import train_test_split\n",
    "X_train,X_test,y_train,y_test=train_test_split(X,y,test_size=0.2,random_state=42)"
   ]
  },
  {
   "cell_type": "code",
   "execution_count": 7,
   "id": "d00076b6-39ed-46ec-ad60-95bbe7c6f6c8",
   "metadata": {},
   "outputs": [],
   "source": [
    "from sklearn.linear_model import LinearRegression\n",
    "reg=LinearRegression()"
   ]
  },
  {
   "cell_type": "code",
   "execution_count": 8,
   "id": "a9310e76-a1a6-4644-9236-b9a3b6103fd0",
   "metadata": {},
   "outputs": [
    {
     "data": {
      "text/html": [
       "<style>#sk-container-id-1 {\n",
       "  /* Definition of color scheme common for light and dark mode */\n",
       "  --sklearn-color-text: black;\n",
       "  --sklearn-color-line: gray;\n",
       "  /* Definition of color scheme for unfitted estimators */\n",
       "  --sklearn-color-unfitted-level-0: #fff5e6;\n",
       "  --sklearn-color-unfitted-level-1: #f6e4d2;\n",
       "  --sklearn-color-unfitted-level-2: #ffe0b3;\n",
       "  --sklearn-color-unfitted-level-3: chocolate;\n",
       "  /* Definition of color scheme for fitted estimators */\n",
       "  --sklearn-color-fitted-level-0: #f0f8ff;\n",
       "  --sklearn-color-fitted-level-1: #d4ebff;\n",
       "  --sklearn-color-fitted-level-2: #b3dbfd;\n",
       "  --sklearn-color-fitted-level-3: cornflowerblue;\n",
       "\n",
       "  /* Specific color for light theme */\n",
       "  --sklearn-color-text-on-default-background: var(--sg-text-color, var(--theme-code-foreground, var(--jp-content-font-color1, black)));\n",
       "  --sklearn-color-background: var(--sg-background-color, var(--theme-background, var(--jp-layout-color0, white)));\n",
       "  --sklearn-color-border-box: var(--sg-text-color, var(--theme-code-foreground, var(--jp-content-font-color1, black)));\n",
       "  --sklearn-color-icon: #696969;\n",
       "\n",
       "  @media (prefers-color-scheme: dark) {\n",
       "    /* Redefinition of color scheme for dark theme */\n",
       "    --sklearn-color-text-on-default-background: var(--sg-text-color, var(--theme-code-foreground, var(--jp-content-font-color1, white)));\n",
       "    --sklearn-color-background: var(--sg-background-color, var(--theme-background, var(--jp-layout-color0, #111)));\n",
       "    --sklearn-color-border-box: var(--sg-text-color, var(--theme-code-foreground, var(--jp-content-font-color1, white)));\n",
       "    --sklearn-color-icon: #878787;\n",
       "  }\n",
       "}\n",
       "\n",
       "#sk-container-id-1 {\n",
       "  color: var(--sklearn-color-text);\n",
       "}\n",
       "\n",
       "#sk-container-id-1 pre {\n",
       "  padding: 0;\n",
       "}\n",
       "\n",
       "#sk-container-id-1 input.sk-hidden--visually {\n",
       "  border: 0;\n",
       "  clip: rect(1px 1px 1px 1px);\n",
       "  clip: rect(1px, 1px, 1px, 1px);\n",
       "  height: 1px;\n",
       "  margin: -1px;\n",
       "  overflow: hidden;\n",
       "  padding: 0;\n",
       "  position: absolute;\n",
       "  width: 1px;\n",
       "}\n",
       "\n",
       "#sk-container-id-1 div.sk-dashed-wrapped {\n",
       "  border: 1px dashed var(--sklearn-color-line);\n",
       "  margin: 0 0.4em 0.5em 0.4em;\n",
       "  box-sizing: border-box;\n",
       "  padding-bottom: 0.4em;\n",
       "  background-color: var(--sklearn-color-background);\n",
       "}\n",
       "\n",
       "#sk-container-id-1 div.sk-container {\n",
       "  /* jupyter's `normalize.less` sets `[hidden] { display: none; }`\n",
       "     but bootstrap.min.css set `[hidden] { display: none !important; }`\n",
       "     so we also need the `!important` here to be able to override the\n",
       "     default hidden behavior on the sphinx rendered scikit-learn.org.\n",
       "     See: https://github.com/scikit-learn/scikit-learn/issues/21755 */\n",
       "  display: inline-block !important;\n",
       "  position: relative;\n",
       "}\n",
       "\n",
       "#sk-container-id-1 div.sk-text-repr-fallback {\n",
       "  display: none;\n",
       "}\n",
       "\n",
       "div.sk-parallel-item,\n",
       "div.sk-serial,\n",
       "div.sk-item {\n",
       "  /* draw centered vertical line to link estimators */\n",
       "  background-image: linear-gradient(var(--sklearn-color-text-on-default-background), var(--sklearn-color-text-on-default-background));\n",
       "  background-size: 2px 100%;\n",
       "  background-repeat: no-repeat;\n",
       "  background-position: center center;\n",
       "}\n",
       "\n",
       "/* Parallel-specific style estimator block */\n",
       "\n",
       "#sk-container-id-1 div.sk-parallel-item::after {\n",
       "  content: \"\";\n",
       "  width: 100%;\n",
       "  border-bottom: 2px solid var(--sklearn-color-text-on-default-background);\n",
       "  flex-grow: 1;\n",
       "}\n",
       "\n",
       "#sk-container-id-1 div.sk-parallel {\n",
       "  display: flex;\n",
       "  align-items: stretch;\n",
       "  justify-content: center;\n",
       "  background-color: var(--sklearn-color-background);\n",
       "  position: relative;\n",
       "}\n",
       "\n",
       "#sk-container-id-1 div.sk-parallel-item {\n",
       "  display: flex;\n",
       "  flex-direction: column;\n",
       "}\n",
       "\n",
       "#sk-container-id-1 div.sk-parallel-item:first-child::after {\n",
       "  align-self: flex-end;\n",
       "  width: 50%;\n",
       "}\n",
       "\n",
       "#sk-container-id-1 div.sk-parallel-item:last-child::after {\n",
       "  align-self: flex-start;\n",
       "  width: 50%;\n",
       "}\n",
       "\n",
       "#sk-container-id-1 div.sk-parallel-item:only-child::after {\n",
       "  width: 0;\n",
       "}\n",
       "\n",
       "/* Serial-specific style estimator block */\n",
       "\n",
       "#sk-container-id-1 div.sk-serial {\n",
       "  display: flex;\n",
       "  flex-direction: column;\n",
       "  align-items: center;\n",
       "  background-color: var(--sklearn-color-background);\n",
       "  padding-right: 1em;\n",
       "  padding-left: 1em;\n",
       "}\n",
       "\n",
       "\n",
       "/* Toggleable style: style used for estimator/Pipeline/ColumnTransformer box that is\n",
       "clickable and can be expanded/collapsed.\n",
       "- Pipeline and ColumnTransformer use this feature and define the default style\n",
       "- Estimators will overwrite some part of the style using the `sk-estimator` class\n",
       "*/\n",
       "\n",
       "/* Pipeline and ColumnTransformer style (default) */\n",
       "\n",
       "#sk-container-id-1 div.sk-toggleable {\n",
       "  /* Default theme specific background. It is overwritten whether we have a\n",
       "  specific estimator or a Pipeline/ColumnTransformer */\n",
       "  background-color: var(--sklearn-color-background);\n",
       "}\n",
       "\n",
       "/* Toggleable label */\n",
       "#sk-container-id-1 label.sk-toggleable__label {\n",
       "  cursor: pointer;\n",
       "  display: block;\n",
       "  width: 100%;\n",
       "  margin-bottom: 0;\n",
       "  padding: 0.5em;\n",
       "  box-sizing: border-box;\n",
       "  text-align: center;\n",
       "}\n",
       "\n",
       "#sk-container-id-1 label.sk-toggleable__label-arrow:before {\n",
       "  /* Arrow on the left of the label */\n",
       "  content: \"▸\";\n",
       "  float: left;\n",
       "  margin-right: 0.25em;\n",
       "  color: var(--sklearn-color-icon);\n",
       "}\n",
       "\n",
       "#sk-container-id-1 label.sk-toggleable__label-arrow:hover:before {\n",
       "  color: var(--sklearn-color-text);\n",
       "}\n",
       "\n",
       "/* Toggleable content - dropdown */\n",
       "\n",
       "#sk-container-id-1 div.sk-toggleable__content {\n",
       "  max-height: 0;\n",
       "  max-width: 0;\n",
       "  overflow: hidden;\n",
       "  text-align: left;\n",
       "  /* unfitted */\n",
       "  background-color: var(--sklearn-color-unfitted-level-0);\n",
       "}\n",
       "\n",
       "#sk-container-id-1 div.sk-toggleable__content.fitted {\n",
       "  /* fitted */\n",
       "  background-color: var(--sklearn-color-fitted-level-0);\n",
       "}\n",
       "\n",
       "#sk-container-id-1 div.sk-toggleable__content pre {\n",
       "  margin: 0.2em;\n",
       "  border-radius: 0.25em;\n",
       "  color: var(--sklearn-color-text);\n",
       "  /* unfitted */\n",
       "  background-color: var(--sklearn-color-unfitted-level-0);\n",
       "}\n",
       "\n",
       "#sk-container-id-1 div.sk-toggleable__content.fitted pre {\n",
       "  /* unfitted */\n",
       "  background-color: var(--sklearn-color-fitted-level-0);\n",
       "}\n",
       "\n",
       "#sk-container-id-1 input.sk-toggleable__control:checked~div.sk-toggleable__content {\n",
       "  /* Expand drop-down */\n",
       "  max-height: 200px;\n",
       "  max-width: 100%;\n",
       "  overflow: auto;\n",
       "}\n",
       "\n",
       "#sk-container-id-1 input.sk-toggleable__control:checked~label.sk-toggleable__label-arrow:before {\n",
       "  content: \"▾\";\n",
       "}\n",
       "\n",
       "/* Pipeline/ColumnTransformer-specific style */\n",
       "\n",
       "#sk-container-id-1 div.sk-label input.sk-toggleable__control:checked~label.sk-toggleable__label {\n",
       "  color: var(--sklearn-color-text);\n",
       "  background-color: var(--sklearn-color-unfitted-level-2);\n",
       "}\n",
       "\n",
       "#sk-container-id-1 div.sk-label.fitted input.sk-toggleable__control:checked~label.sk-toggleable__label {\n",
       "  background-color: var(--sklearn-color-fitted-level-2);\n",
       "}\n",
       "\n",
       "/* Estimator-specific style */\n",
       "\n",
       "/* Colorize estimator box */\n",
       "#sk-container-id-1 div.sk-estimator input.sk-toggleable__control:checked~label.sk-toggleable__label {\n",
       "  /* unfitted */\n",
       "  background-color: var(--sklearn-color-unfitted-level-2);\n",
       "}\n",
       "\n",
       "#sk-container-id-1 div.sk-estimator.fitted input.sk-toggleable__control:checked~label.sk-toggleable__label {\n",
       "  /* fitted */\n",
       "  background-color: var(--sklearn-color-fitted-level-2);\n",
       "}\n",
       "\n",
       "#sk-container-id-1 div.sk-label label.sk-toggleable__label,\n",
       "#sk-container-id-1 div.sk-label label {\n",
       "  /* The background is the default theme color */\n",
       "  color: var(--sklearn-color-text-on-default-background);\n",
       "}\n",
       "\n",
       "/* On hover, darken the color of the background */\n",
       "#sk-container-id-1 div.sk-label:hover label.sk-toggleable__label {\n",
       "  color: var(--sklearn-color-text);\n",
       "  background-color: var(--sklearn-color-unfitted-level-2);\n",
       "}\n",
       "\n",
       "/* Label box, darken color on hover, fitted */\n",
       "#sk-container-id-1 div.sk-label.fitted:hover label.sk-toggleable__label.fitted {\n",
       "  color: var(--sklearn-color-text);\n",
       "  background-color: var(--sklearn-color-fitted-level-2);\n",
       "}\n",
       "\n",
       "/* Estimator label */\n",
       "\n",
       "#sk-container-id-1 div.sk-label label {\n",
       "  font-family: monospace;\n",
       "  font-weight: bold;\n",
       "  display: inline-block;\n",
       "  line-height: 1.2em;\n",
       "}\n",
       "\n",
       "#sk-container-id-1 div.sk-label-container {\n",
       "  text-align: center;\n",
       "}\n",
       "\n",
       "/* Estimator-specific */\n",
       "#sk-container-id-1 div.sk-estimator {\n",
       "  font-family: monospace;\n",
       "  border: 1px dotted var(--sklearn-color-border-box);\n",
       "  border-radius: 0.25em;\n",
       "  box-sizing: border-box;\n",
       "  margin-bottom: 0.5em;\n",
       "  /* unfitted */\n",
       "  background-color: var(--sklearn-color-unfitted-level-0);\n",
       "}\n",
       "\n",
       "#sk-container-id-1 div.sk-estimator.fitted {\n",
       "  /* fitted */\n",
       "  background-color: var(--sklearn-color-fitted-level-0);\n",
       "}\n",
       "\n",
       "/* on hover */\n",
       "#sk-container-id-1 div.sk-estimator:hover {\n",
       "  /* unfitted */\n",
       "  background-color: var(--sklearn-color-unfitted-level-2);\n",
       "}\n",
       "\n",
       "#sk-container-id-1 div.sk-estimator.fitted:hover {\n",
       "  /* fitted */\n",
       "  background-color: var(--sklearn-color-fitted-level-2);\n",
       "}\n",
       "\n",
       "/* Specification for estimator info (e.g. \"i\" and \"?\") */\n",
       "\n",
       "/* Common style for \"i\" and \"?\" */\n",
       "\n",
       ".sk-estimator-doc-link,\n",
       "a:link.sk-estimator-doc-link,\n",
       "a:visited.sk-estimator-doc-link {\n",
       "  float: right;\n",
       "  font-size: smaller;\n",
       "  line-height: 1em;\n",
       "  font-family: monospace;\n",
       "  background-color: var(--sklearn-color-background);\n",
       "  border-radius: 1em;\n",
       "  height: 1em;\n",
       "  width: 1em;\n",
       "  text-decoration: none !important;\n",
       "  margin-left: 1ex;\n",
       "  /* unfitted */\n",
       "  border: var(--sklearn-color-unfitted-level-1) 1pt solid;\n",
       "  color: var(--sklearn-color-unfitted-level-1);\n",
       "}\n",
       "\n",
       ".sk-estimator-doc-link.fitted,\n",
       "a:link.sk-estimator-doc-link.fitted,\n",
       "a:visited.sk-estimator-doc-link.fitted {\n",
       "  /* fitted */\n",
       "  border: var(--sklearn-color-fitted-level-1) 1pt solid;\n",
       "  color: var(--sklearn-color-fitted-level-1);\n",
       "}\n",
       "\n",
       "/* On hover */\n",
       "div.sk-estimator:hover .sk-estimator-doc-link:hover,\n",
       ".sk-estimator-doc-link:hover,\n",
       "div.sk-label-container:hover .sk-estimator-doc-link:hover,\n",
       ".sk-estimator-doc-link:hover {\n",
       "  /* unfitted */\n",
       "  background-color: var(--sklearn-color-unfitted-level-3);\n",
       "  color: var(--sklearn-color-background);\n",
       "  text-decoration: none;\n",
       "}\n",
       "\n",
       "div.sk-estimator.fitted:hover .sk-estimator-doc-link.fitted:hover,\n",
       ".sk-estimator-doc-link.fitted:hover,\n",
       "div.sk-label-container:hover .sk-estimator-doc-link.fitted:hover,\n",
       ".sk-estimator-doc-link.fitted:hover {\n",
       "  /* fitted */\n",
       "  background-color: var(--sklearn-color-fitted-level-3);\n",
       "  color: var(--sklearn-color-background);\n",
       "  text-decoration: none;\n",
       "}\n",
       "\n",
       "/* Span, style for the box shown on hovering the info icon */\n",
       ".sk-estimator-doc-link span {\n",
       "  display: none;\n",
       "  z-index: 9999;\n",
       "  position: relative;\n",
       "  font-weight: normal;\n",
       "  right: .2ex;\n",
       "  padding: .5ex;\n",
       "  margin: .5ex;\n",
       "  width: min-content;\n",
       "  min-width: 20ex;\n",
       "  max-width: 50ex;\n",
       "  color: var(--sklearn-color-text);\n",
       "  box-shadow: 2pt 2pt 4pt #999;\n",
       "  /* unfitted */\n",
       "  background: var(--sklearn-color-unfitted-level-0);\n",
       "  border: .5pt solid var(--sklearn-color-unfitted-level-3);\n",
       "}\n",
       "\n",
       ".sk-estimator-doc-link.fitted span {\n",
       "  /* fitted */\n",
       "  background: var(--sklearn-color-fitted-level-0);\n",
       "  border: var(--sklearn-color-fitted-level-3);\n",
       "}\n",
       "\n",
       ".sk-estimator-doc-link:hover span {\n",
       "  display: block;\n",
       "}\n",
       "\n",
       "/* \"?\"-specific style due to the `<a>` HTML tag */\n",
       "\n",
       "#sk-container-id-1 a.estimator_doc_link {\n",
       "  float: right;\n",
       "  font-size: 1rem;\n",
       "  line-height: 1em;\n",
       "  font-family: monospace;\n",
       "  background-color: var(--sklearn-color-background);\n",
       "  border-radius: 1rem;\n",
       "  height: 1rem;\n",
       "  width: 1rem;\n",
       "  text-decoration: none;\n",
       "  /* unfitted */\n",
       "  color: var(--sklearn-color-unfitted-level-1);\n",
       "  border: var(--sklearn-color-unfitted-level-1) 1pt solid;\n",
       "}\n",
       "\n",
       "#sk-container-id-1 a.estimator_doc_link.fitted {\n",
       "  /* fitted */\n",
       "  border: var(--sklearn-color-fitted-level-1) 1pt solid;\n",
       "  color: var(--sklearn-color-fitted-level-1);\n",
       "}\n",
       "\n",
       "/* On hover */\n",
       "#sk-container-id-1 a.estimator_doc_link:hover {\n",
       "  /* unfitted */\n",
       "  background-color: var(--sklearn-color-unfitted-level-3);\n",
       "  color: var(--sklearn-color-background);\n",
       "  text-decoration: none;\n",
       "}\n",
       "\n",
       "#sk-container-id-1 a.estimator_doc_link.fitted:hover {\n",
       "  /* fitted */\n",
       "  background-color: var(--sklearn-color-fitted-level-3);\n",
       "}\n",
       "</style><div id=\"sk-container-id-1\" class=\"sk-top-container\"><div class=\"sk-text-repr-fallback\"><pre>LinearRegression()</pre><b>In a Jupyter environment, please rerun this cell to show the HTML representation or trust the notebook. <br />On GitHub, the HTML representation is unable to render, please try loading this page with nbviewer.org.</b></div><div class=\"sk-container\" hidden><div class=\"sk-item\"><div class=\"sk-estimator fitted sk-toggleable\"><input class=\"sk-toggleable__control sk-hidden--visually\" id=\"sk-estimator-id-1\" type=\"checkbox\" checked><label for=\"sk-estimator-id-1\" class=\"sk-toggleable__label fitted sk-toggleable__label-arrow fitted\">&nbsp;&nbsp;LinearRegression<a class=\"sk-estimator-doc-link fitted\" rel=\"noreferrer\" target=\"_blank\" href=\"https://scikit-learn.org/1.4/modules/generated/sklearn.linear_model.LinearRegression.html\">?<span>Documentation for LinearRegression</span></a><span class=\"sk-estimator-doc-link fitted\">i<span>Fitted</span></span></label><div class=\"sk-toggleable__content fitted\"><pre>LinearRegression()</pre></div> </div></div></div></div>"
      ],
      "text/plain": [
       "LinearRegression()"
      ]
     },
     "execution_count": 8,
     "metadata": {},
     "output_type": "execute_result"
    }
   ],
   "source": [
    "reg.fit(X_train,y_train)"
   ]
  },
  {
   "cell_type": "code",
   "execution_count": 11,
   "id": "1a197f2a-2c72-4dbf-bd8c-0ee3585b4960",
   "metadata": {},
   "outputs": [
    {
     "data": {
      "text/plain": [
       "0.7903615901498733"
      ]
     },
     "execution_count": 11,
     "metadata": {},
     "output_type": "execute_result"
    }
   ],
   "source": [
    "from sklearn.metrics import r2_score\n",
    "score=r2_score(y_test,reg.predict(X_test))\n",
    "score"
   ]
  },
  {
   "cell_type": "code",
   "execution_count": 13,
   "id": "c7e6a529-b925-473a-8a3e-ea26c5ce9c24",
   "metadata": {},
   "outputs": [
    {
     "data": {
      "text/plain": [
       "Text(0, 0.5, 'Y')"
      ]
     },
     "execution_count": 13,
     "metadata": {},
     "output_type": "execute_result"
    },
    {
     "data": {
      "image/png": "[encoded data removed]",
      "text/plain": [
       "<Figure size 640x480 with 1 Axes>"
      ]
     },
     "metadata": {},
     "output_type": "display_data"
    }
   ],
   "source": [
    "plt.plot(X_train,reg.predict(X_train),color='r')\n",
    "plt.scatter(X_train,y_train)\n",
    "plt.xlabel(\"X\")\n",
    "plt.ylabel(\"Y\")"
   ]
  },
  {
   "cell_type": "code",
   "execution_count": 15,
   "id": "6e2f1453-8827-44cb-ad89-b0bdb709747e",
   "metadata": {},
   "outputs": [],
   "source": [
    "from sklearn.preprocessing import PolynomialFeatures"
   ]
  },
  {
   "cell_type": "code",
   "execution_count": 18,
   "id": "01e7db97-92fd-41e2-aa78-25b093a68a3f",
   "metadata": {},
   "outputs": [],
   "source": [
    "poly= PolynomialFeatures(degree=2,include_bias=True)\n",
    "X_train_poly=poly.fit_transform(X_train)\n",
    "X_test_poly=poly.transform(X_test)"
   ]
  },
  {
   "cell_type": "code",
   "execution_count": 21,
   "id": "f028fa1d-29a9-4edc-b8a3-6e82031a4144",
   "metadata": {},
   "outputs": [
    {
     "data": {
      "text/plain": [
       "array([[ 1.00000000e+00, -2.17551147e+00,  4.73285017e+00],\n",
       "       [ 1.00000000e+00,  1.24663898e+00,  1.55410874e+00],\n",
       "       [ 1.00000000e+00, -7.88647102e-01,  6.21964252e-01],\n",
       "       [ 1.00000000e+00,  1.80300613e+00,  3.25083111e+00],\n",
       "       [ 1.00000000e+00,  1.37210465e+00,  1.88267118e+00],\n",
       "       [ 1.00000000e+00,  9.83908025e-01,  9.68075002e-01],\n",
       "       [ 1.00000000e+00,  2.91761436e-01,  8.51247354e-02],\n",
       "       [ 1.00000000e+00,  1.20196449e+00,  1.44471863e+00],\n",
       "       [ 1.00000000e+00, -9.26242138e-01,  8.57924499e-01],\n",
       "       [ 1.00000000e+00,  1.34380250e+00,  1.80580517e+00],\n",
       "       [ 1.00000000e+00,  2.26749518e+00,  5.14153440e+00],\n",
       "       [ 1.00000000e+00, -1.60300883e+00,  2.56963731e+00],\n",
       "       [ 1.00000000e+00, -2.78945039e+00,  7.78103349e+00],\n",
       "       [ 1.00000000e+00, -2.60575708e+00,  6.78996993e+00],\n",
       "       [ 1.00000000e+00,  2.46403370e+00,  6.07146209e+00],\n",
       "       [ 1.00000000e+00,  1.05671455e+00,  1.11664565e+00],\n",
       "       [ 1.00000000e+00, -1.10148311e+00,  1.21326505e+00],\n",
       "       [ 1.00000000e+00,  2.93822425e+00,  8.63316172e+00],\n",
       "       [ 1.00000000e+00,  3.13354574e-01,  9.81910888e-02],\n",
       "       [ 1.00000000e+00,  2.51293521e+00,  6.31484338e+00],\n",
       "       [ 1.00000000e+00,  8.44065420e-01,  7.12446433e-01],\n",
       "       [ 1.00000000e+00, -3.86223405e-01,  1.49168518e-01],\n",
       "       [ 1.00000000e+00,  6.13178284e-01,  3.75987608e-01],\n",
       "       [ 1.00000000e+00,  1.97332066e-01,  3.89399445e-02],\n",
       "       [ 1.00000000e+00,  6.26256971e-01,  3.92197794e-01],\n",
       "       [ 1.00000000e+00, -8.43258290e-01,  7.11084543e-01],\n",
       "       [ 1.00000000e+00,  2.24498875e+00,  5.03997447e+00],\n",
       "       [ 1.00000000e+00, -2.85746889e+00,  8.16512845e+00],\n",
       "       [ 1.00000000e+00, -1.45564358e+00,  2.11889824e+00],\n",
       "       [ 1.00000000e+00,  2.70202877e+00,  7.30095948e+00],\n",
       "       [ 1.00000000e+00,  4.80441957e-01,  2.30824474e-01],\n",
       "       [ 1.00000000e+00,  1.54329440e+00,  2.38175761e+00],\n",
       "       [ 1.00000000e+00, -2.37109476e+00,  5.62209037e+00],\n",
       "       [ 1.00000000e+00, -1.67790030e+00,  2.81534941e+00],\n",
       "       [ 1.00000000e+00,  1.16565663e+00,  1.35875538e+00],\n",
       "       [ 1.00000000e+00, -1.67610740e+00,  2.80933603e+00],\n",
       "       [ 1.00000000e+00, -8.71175673e-01,  7.58947053e-01],\n",
       "       [ 1.00000000e+00,  5.59520091e-01,  3.13062732e-01],\n",
       "       [ 1.00000000e+00,  1.66806359e-01,  2.78243615e-02],\n",
       "       [ 1.00000000e+00, -2.42257290e+00,  5.86885945e+00],\n",
       "       [ 1.00000000e+00, -1.78363507e+00,  3.18135406e+00],\n",
       "       [ 1.00000000e+00,  2.92796677e+00,  8.57298939e+00],\n",
       "       [ 1.00000000e+00, -2.62620292e+00,  6.89694179e+00],\n",
       "       [ 1.00000000e+00, -3.28205699e-02,  1.07718981e-03],\n",
       "       [ 1.00000000e+00,  1.27582587e+00,  1.62773164e+00],\n",
       "       [ 1.00000000e+00,  1.74773764e-02,  3.05458684e-04],\n",
       "       [ 1.00000000e+00,  1.49947571e-01,  2.24842741e-02],\n",
       "       [ 1.00000000e+00, -2.47934027e+00,  6.14712815e+00],\n",
       "       [ 1.00000000e+00,  2.59797954e+00,  6.74949770e+00],\n",
       "       [ 1.00000000e+00,  2.99694378e+00,  8.98167205e+00],\n",
       "       [ 1.00000000e+00, -2.46535888e+00,  6.07799441e+00],\n",
       "       [ 1.00000000e+00, -2.89171201e+00,  8.36199834e+00],\n",
       "       [ 1.00000000e+00,  1.04970844e+00,  1.10188780e+00],\n",
       "       [ 1.00000000e+00, -2.73412122e+00,  7.47541885e+00],\n",
       "       [ 1.00000000e+00, -2.02035954e+00,  4.08185266e+00],\n",
       "       [ 1.00000000e+00,  1.76415390e+00,  3.11223897e+00],\n",
       "       [ 1.00000000e+00, -1.67156131e+00,  2.79411721e+00],\n",
       "       [ 1.00000000e+00,  8.60590024e-01,  7.40615189e-01],\n",
       "       [ 1.00000000e+00, -1.32292466e+00,  1.75012965e+00],\n",
       "       [ 1.00000000e+00,  8.42620603e-01,  7.10009481e-01],\n",
       "       [ 1.00000000e+00, -1.03405911e+00,  1.06927824e+00],\n",
       "       [ 1.00000000e+00, -8.58913606e-02,  7.37732583e-03],\n",
       "       [ 1.00000000e+00,  2.38521442e+00,  5.68924785e+00],\n",
       "       [ 1.00000000e+00, -1.61893938e+00,  2.62096472e+00],\n",
       "       [ 1.00000000e+00,  2.54297304e+00,  6.46671187e+00],\n",
       "       [ 1.00000000e+00, -2.37502180e+00,  5.64072856e+00],\n",
       "       [ 1.00000000e+00,  1.65177922e+00,  2.72837460e+00],\n",
       "       [ 1.00000000e+00, -8.10641012e-01,  6.57138851e-01],\n",
       "       [ 1.00000000e+00, -2.45013174e+00,  6.00314554e+00],\n",
       "       [ 1.00000000e+00, -1.17575320e+00,  1.38239560e+00],\n",
       "       [ 1.00000000e+00,  6.32170968e-01,  3.99640133e-01],\n",
       "       [ 1.00000000e+00, -4.77394635e-01,  2.27905637e-01],\n",
       "       [ 1.00000000e+00, -1.45687732e+00,  2.12249153e+00],\n",
       "       [ 1.00000000e+00,  6.68621827e-02,  4.47055147e-03],\n",
       "       [ 1.00000000e+00,  2.43234385e+00,  5.91629662e+00],\n",
       "       [ 1.00000000e+00,  1.72018170e+00,  2.95902508e+00],\n",
       "       [ 1.00000000e+00, -2.43619120e+00,  5.93502757e+00],\n",
       "       [ 1.00000000e+00,  2.33322744e+00,  5.44395030e+00],\n",
       "       [ 1.00000000e+00, -1.76488218e+00,  3.11480909e+00],\n",
       "       [ 1.00000000e+00, -1.34119032e+00,  1.79879148e+00]])"
      ]
     },
     "execution_count": 21,
     "metadata": {},
     "output_type": "execute_result"
    }
   ],
   "source": [
    " X_train_poly"
   ]
  },
  {
   "cell_type": "code",
   "execution_count": 22,
   "id": "0c1447d0-0d39-41e2-86b3-df3869b88309",
   "metadata": {},
   "outputs": [
    {
     "data": {
      "text/plain": [
       "0.992600707675936"
      ]
     },
     "execution_count": 22,
     "metadata": {},
     "output_type": "execute_result"
    }
   ],
   "source": [
    "from sklearn.linear_model import LinearRegression\n",
    "from sklearn.metrics import r2_score\n",
    "reg=LinearRegression()\n",
    "reg.fit(X_train_poly,y_train)\n",
    "score=r2_score(y_test,reg.predict(X_test_poly))\n",
    "score"
   ]
  },
  {
   "cell_type": "code",
   "execution_count": 24,
   "id": "d0f55398-8a7f-4dd0-9aff-397b0b227fd0",
   "metadata": {},
   "outputs": [
    {
     "data": {
      "text/plain": [
       "array([[0.        , 1.39447632, 0.49471969]])"
      ]
     },
     "execution_count": 24,
     "metadata": {},
     "output_type": "execute_result"
    }
   ],
   "source": [
    "reg.coef_"
   ]
  },
  {
   "cell_type": "code",
   "execution_count": 25,
   "id": "59c6b1e0-5698-4d02-b98e-752d265441af",
   "metadata": {},
   "outputs": [
    {
     "data": {
      "text/plain": [
       "array([2.56277873])"
      ]
     },
     "execution_count": 25,
     "metadata": {},
     "output_type": "execute_result"
    }
   ],
   "source": [
    "reg.intercept_"
   ]
  },
  {
   "cell_type": "code",
   "execution_count": 26,
   "id": "383e79db-05b7-4623-8de7-4f16c7190154",
   "metadata": {},
   "outputs": [
    {
     "data": {
      "text/plain": [
       "Text(0, 0.5, 'Y')"
      ]
     },
     "execution_count": 26,
     "metadata": {},
     "output_type": "execute_result"
    },
    {
     "data": {
      "image/png": "[encoded data removed]",
      "text/plain": [
       "<Figure size 640x480 with 1 Axes>"
      ]
     },
     "metadata": {},
     "output_type": "display_data"
    }
   ],
   "source": [
    "plt.scatter(X_train,y_train)\n",
    "plt.scatter(X_train,reg.predict(X_train_poly))\n",
    "plt.xlabel(\"X\")\n",
    "plt.ylabel(\"Y\")"
   ]
  },
  {
   "cell_type": "code",
   "execution_count": 27,
   "id": "38b3c626-e92a-4d91-b5d0-2370ed880bcd",
   "metadata": {},
   "outputs": [
    {
     "data": {
      "text/plain": [
       "array([[ 1.00000000e+00, -2.17551147e+00,  4.73285017e+00,\n",
       "        -1.02963699e+01],\n",
       "       [ 1.00000000e+00,  1.24663898e+00,  1.55410874e+00,\n",
       "         1.93741253e+00],\n",
       "       [ 1.00000000e+00, -7.88647102e-01,  6.21964252e-01,\n",
       "        -4.90510305e-01],\n",
       "       [ 1.00000000e+00,  1.80300613e+00,  3.25083111e+00,\n",
       "         5.86126843e+00],\n",
       "       [ 1.00000000e+00,  1.37210465e+00,  1.88267118e+00,\n",
       "         2.58322188e+00],\n",
       "       [ 1.00000000e+00,  9.83908025e-01,  9.68075002e-01,\n",
       "         9.52496763e-01],\n",
       "       [ 1.00000000e+00,  2.91761436e-01,  8.51247354e-02,\n",
       "         2.48361150e-02],\n",
       "       [ 1.00000000e+00,  1.20196449e+00,  1.44471863e+00,\n",
       "         1.73650049e+00],\n",
       "       [ 1.00000000e+00, -9.26242138e-01,  8.57924499e-01,\n",
       "        -7.94645822e-01],\n",
       "       [ 1.00000000e+00,  1.34380250e+00,  1.80580517e+00,\n",
       "         2.42664551e+00],\n",
       "       [ 1.00000000e+00,  2.26749518e+00,  5.14153440e+00,\n",
       "         1.16584045e+01],\n",
       "       [ 1.00000000e+00, -1.60300883e+00,  2.56963731e+00,\n",
       "        -4.11915130e+00],\n",
       "       [ 1.00000000e+00, -2.78945039e+00,  7.78103349e+00,\n",
       "        -2.17048069e+01],\n",
       "       [ 1.00000000e+00, -2.60575708e+00,  6.78996993e+00,\n",
       "        -1.76930122e+01],\n",
       "       [ 1.00000000e+00,  2.46403370e+00,  6.07146209e+00,\n",
       "         1.49602872e+01],\n",
       "       [ 1.00000000e+00,  1.05671455e+00,  1.11664565e+00,\n",
       "         1.17997571e+00],\n",
       "       [ 1.00000000e+00, -1.10148311e+00,  1.21326505e+00,\n",
       "        -1.33639096e+00],\n",
       "       [ 1.00000000e+00,  2.93822425e+00,  8.63316172e+00,\n",
       "         2.53661651e+01],\n",
       "       [ 1.00000000e+00,  3.13354574e-01,  9.81910888e-02,\n",
       "         3.07686268e-02],\n",
       "       [ 1.00000000e+00,  2.51293521e+00,  6.31484338e+00,\n",
       "         1.58687923e+01],\n",
       "       [ 1.00000000e+00,  8.44065420e-01,  7.12446433e-01,\n",
       "         6.01351398e-01],\n",
       "       [ 1.00000000e+00, -3.86223405e-01,  1.49168518e-01,\n",
       "        -5.76123730e-02],\n",
       "       [ 1.00000000e+00,  6.13178284e-01,  3.75987608e-01,\n",
       "         2.30547437e-01],\n",
       "       [ 1.00000000e+00,  1.97332066e-01,  3.89399445e-02,\n",
       "         7.68409971e-03],\n",
       "       [ 1.00000000e+00,  6.26256971e-01,  3.92197794e-01,\n",
       "         2.45616603e-01],\n",
       "       [ 1.00000000e+00, -8.43258290e-01,  7.11084543e-01,\n",
       "        -5.99627936e-01],\n",
       "       [ 1.00000000e+00,  2.24498875e+00,  5.03997447e+00,\n",
       "         1.13146860e+01],\n",
       "       [ 1.00000000e+00, -2.85746889e+00,  8.16512845e+00,\n",
       "        -2.33316005e+01],\n",
       "       [ 1.00000000e+00, -1.45564358e+00,  2.11889824e+00,\n",
       "        -3.08436063e+00],\n",
       "       [ 1.00000000e+00,  2.70202877e+00,  7.30095948e+00,\n",
       "         1.97274026e+01],\n",
       "       [ 1.00000000e+00,  4.80441957e-01,  2.30824474e-01,\n",
       "         1.10897762e-01],\n",
       "       [ 1.00000000e+00,  1.54329440e+00,  2.38175761e+00,\n",
       "         3.67575320e+00],\n",
       "       [ 1.00000000e+00, -2.37109476e+00,  5.62209037e+00,\n",
       "        -1.33305090e+01],\n",
       "       [ 1.00000000e+00, -1.67790030e+00,  2.81534941e+00,\n",
       "        -4.72387560e+00],\n",
       "       [ 1.00000000e+00,  1.16565663e+00,  1.35875538e+00,\n",
       "         1.58384222e+00],\n",
       "       [ 1.00000000e+00, -1.67610740e+00,  2.80933603e+00,\n",
       "        -4.70874892e+00],\n",
       "       [ 1.00000000e+00, -8.71175673e-01,  7.58947053e-01,\n",
       "        -6.61176209e-01],\n",
       "       [ 1.00000000e+00,  5.59520091e-01,  3.13062732e-01,\n",
       "         1.75164888e-01],\n",
       "       [ 1.00000000e+00,  1.66806359e-01,  2.78243615e-02,\n",
       "         4.64128045e-03],\n",
       "       [ 1.00000000e+00, -2.42257290e+00,  5.86885945e+00,\n",
       "        -1.42177398e+01],\n",
       "       [ 1.00000000e+00, -1.78363507e+00,  3.18135406e+00,\n",
       "        -5.67437468e+00],\n",
       "       [ 1.00000000e+00,  2.92796677e+00,  8.57298939e+00,\n",
       "         2.51014280e+01],\n",
       "       [ 1.00000000e+00, -2.62620292e+00,  6.89694179e+00,\n",
       "        -1.81127687e+01],\n",
       "       [ 1.00000000e+00, -3.28205699e-02,  1.07718981e-03,\n",
       "        -3.53539835e-05],\n",
       "       [ 1.00000000e+00,  1.27582587e+00,  1.62773164e+00,\n",
       "         2.07670213e+00],\n",
       "       [ 1.00000000e+00,  1.74773764e-02,  3.05458684e-04,\n",
       "         5.33861638e-06],\n",
       "       [ 1.00000000e+00,  1.49947571e-01,  2.24842741e-02,\n",
       "         3.37146230e-03],\n",
       "       [ 1.00000000e+00, -2.47934027e+00,  6.14712815e+00,\n",
       "        -1.52408223e+01],\n",
       "       [ 1.00000000e+00,  2.59797954e+00,  6.74949770e+00,\n",
       "         1.75350569e+01],\n",
       "       [ 1.00000000e+00,  2.99694378e+00,  8.98167205e+00,\n",
       "         2.69175662e+01],\n",
       "       [ 1.00000000e+00, -2.46535888e+00,  6.07799441e+00,\n",
       "        -1.49844375e+01],\n",
       "       [ 1.00000000e+00, -2.89171201e+00,  8.36199834e+00,\n",
       "        -2.41804910e+01],\n",
       "       [ 1.00000000e+00,  1.04970844e+00,  1.10188780e+00,\n",
       "         1.15666093e+00],\n",
       "       [ 1.00000000e+00, -2.73412122e+00,  7.47541885e+00,\n",
       "        -2.04387013e+01],\n",
       "       [ 1.00000000e+00, -2.02035954e+00,  4.08185266e+00,\n",
       "        -8.24680995e+00],\n",
       "       [ 1.00000000e+00,  1.76415390e+00,  3.11223897e+00,\n",
       "         5.49046851e+00],\n",
       "       [ 1.00000000e+00, -1.67156131e+00,  2.79411721e+00,\n",
       "        -4.67053822e+00],\n",
       "       [ 1.00000000e+00,  8.60590024e-01,  7.40615189e-01,\n",
       "         6.37366043e-01],\n",
       "       [ 1.00000000e+00, -1.32292466e+00,  1.75012965e+00,\n",
       "        -2.31528967e+00],\n",
       "       [ 1.00000000e+00,  8.42620603e-01,  7.10009481e-01,\n",
       "         5.98268617e-01],\n",
       "       [ 1.00000000e+00, -1.03405911e+00,  1.06927824e+00,\n",
       "        -1.10569690e+00],\n",
       "       [ 1.00000000e+00, -8.58913606e-02,  7.37732583e-03,\n",
       "        -6.33648553e-04],\n",
       "       [ 1.00000000e+00,  2.38521442e+00,  5.68924785e+00,\n",
       "         1.35700760e+01],\n",
       "       [ 1.00000000e+00, -1.61893938e+00,  2.62096472e+00,\n",
       "        -4.24318300e+00],\n",
       "       [ 1.00000000e+00,  2.54297304e+00,  6.46671187e+00,\n",
       "         1.64446739e+01],\n",
       "       [ 1.00000000e+00, -2.37502180e+00,  5.64072856e+00,\n",
       "        -1.33968533e+01],\n",
       "       [ 1.00000000e+00,  1.65177922e+00,  2.72837460e+00,\n",
       "         4.50667248e+00],\n",
       "       [ 1.00000000e+00, -8.10641012e-01,  6.57138851e-01,\n",
       "        -5.32703703e-01],\n",
       "       [ 1.00000000e+00, -2.45013174e+00,  6.00314554e+00,\n",
       "        -1.47084974e+01],\n",
       "       [ 1.00000000e+00, -1.17575320e+00,  1.38239560e+00,\n",
       "        -1.62535605e+00],\n",
       "       [ 1.00000000e+00,  6.32170968e-01,  3.99640133e-01,\n",
       "         2.52640890e-01],\n",
       "       [ 1.00000000e+00, -4.77394635e-01,  2.27905637e-01,\n",
       "        -1.08800928e-01],\n",
       "       [ 1.00000000e+00, -1.45687732e+00,  2.12249153e+00,\n",
       "        -3.09220977e+00],\n",
       "       [ 1.00000000e+00,  6.68621827e-02,  4.47055147e-03,\n",
       "         2.98910829e-04],\n",
       "       [ 1.00000000e+00,  2.43234385e+00,  5.91629662e+00,\n",
       "         1.43904677e+01],\n",
       "       [ 1.00000000e+00,  1.72018170e+00,  2.95902508e+00,\n",
       "         5.09006080e+00],\n",
       "       [ 1.00000000e+00, -2.43619120e+00,  5.93502757e+00,\n",
       "        -1.44588620e+01],\n",
       "       [ 1.00000000e+00,  2.33322744e+00,  5.44395030e+00,\n",
       "         1.27019743e+01],\n",
       "       [ 1.00000000e+00, -1.76488218e+00,  3.11480909e+00,\n",
       "        -5.49727105e+00],\n",
       "       [ 1.00000000e+00, -1.34119032e+00,  1.79879148e+00,\n",
       "        -2.41252173e+00]])"
      ]
     },
     "execution_count": 27,
     "metadata": {},
     "output_type": "execute_result"
    }
   ],
   "source": [
    "poly= PolynomialFeatures(degree=3,include_bias=True)\n",
    "X_train_poly=poly.fit_transform(X_train)\n",
    "X_test_poly=poly.transform(X_test)\n",
    "X_train_poly"
   ]
  },
  {
   "cell_type": "code",
   "execution_count": 28,
   "id": "1a7192e8-e668-46d1-b2cb-8d6e788c0d02",
   "metadata": {},
   "outputs": [
    {
     "data": {
      "text/plain": [
       "0.9932209020768175"
      ]
     },
     "execution_count": 28,
     "metadata": {},
     "output_type": "execute_result"
    }
   ],
   "source": [
    "from sklearn.linear_model import LinearRegression\n",
    "from sklearn.metrics import r2_score\n",
    "reg=LinearRegression()\n",
    "reg.fit(X_train_poly,y_train)\n",
    "score=r2_score(y_test,reg.predict(X_test_poly))\n",
    "score"
   ]
  },
  {
   "cell_type": "code",
   "execution_count": 29,
   "id": "f390d49c-8153-48d3-b3cc-be46f6d51888",
   "metadata": {},
   "outputs": [
    {
     "data": {
      "text/plain": [
       "Text(0, 0.5, 'Y')"
      ]
     },
     "execution_count": 29,
     "metadata": {},
     "output_type": "execute_result"
    },
    {
     "data": {
      "image/png": "[encoded data removed]",
      "text/plain": [
       "<Figure size 640x480 with 1 Axes>"
      ]
     },
     "metadata": {},
     "output_type": "display_data"
    }
   ],
   "source": [
    "plt.scatter(X_train,y_train)\n",
    "plt.scatter(X_train,reg.predict(X_train_poly))\n",
    "plt.xlabel(\"X\")\n",
    "plt.ylabel(\"Y\")"
   ]
  },
  {
   "cell_type": "code",
   "execution_count": 30,
   "id": "5f0cf183-5f34-461b-88ce-80e09095056c",
   "metadata": {},
   "outputs": [],
   "source": [
    "#Prediction of new data set\n",
    "X_new=np.linspace(-3,3,200).reshape(200,1)\n",
    "X_new_poly=poly.transform(X_new)\n",
    "\n",
    " "
   ]
  },
  {
   "cell_type": "code",
   "execution_count": 33,
   "id": "55b9d1e7-656f-4212-8710-33942037687d",
   "metadata": {},
   "outputs": [
    {
     "data": {
      "image/png": "[encoded data removed]",
      "text/plain": [
       "<Figure size 640x480 with 1 Axes>"
      ]
     },
     "metadata": {},
     "output_type": "display_data"
    }
   ],
   "source": [
    " y_new =reg.predict(X_new_poly)\n",
    "plt.plot(X_new,y_new,\"r-\" ,linewidth=2,label=\"predictions\")\n",
    "plt.plot(X_train,y_train,\"b.\",label=\"training points\")\n",
    "plt.plot(X_test,y_test,\"g.\",label=\"Testing point\")\n",
    "plt.xlabel(\"x\")\n",
    "plt.ylabel(\"y\")\n",
    "plt.legend()\n",
    "plt.show()"
   ]
  },
  {
   "cell_type": "code",
   "execution_count": 36,
   "id": "a773b575-5359-4fda-9f50-d60a4852e9e4",
   "metadata": {},
   "outputs": [],
   "source": [
    "\n",
    "from sklearn.pipeline import Pipeline\n",
    "\n",
    "def poly_regression(degree):\n",
    "    X_new = np.linspace(-3, 3, 200).reshape(200, 1)\n",
    "    \n",
    "    poly_features=PolynomialFeatures(degree=degree,include_bias=True)\n",
    "    lin_reg=LinearRegression()\n",
    "    poly_regression=Pipeline([\n",
    "        (\"poly_features\",poly_features),\n",
    "        (\"lin_reg\",lin_reg)\n",
    "    ])\n",
    "    poly_regression.fit(X_train,y_train) ## ploynomial and fit of linear reression\n",
    "    y_pred_new=poly_regression.predict(X_new)\n",
    "    #plotting prediction line\n",
    "    plt.plot(X_new, y_pred_new,'r', label=\"Degree \" + str(degree), linewidth=2)\n",
    "    plt.plot(X_train, y_train, \"b.\", linewidth=3)\n",
    "    plt.plot(X_test, y_test, \"g.\", linewidth=3)\n",
    "    plt.legend(loc=\"upper left\")\n",
    "    plt.xlabel(\"X\")\n",
    "    plt.ylabel(\"y\")\n",
    "    plt.axis([-4,4, 0, 10])\n",
    "    plt.show()"
   ]
  },
  {
   "cell_type": "code",
   "execution_count": 37,
   "id": "72be7d69-0dd8-4267-b3b2-0a72e7ec6991",
   "metadata": {},
   "outputs": [
    {
     "data": {
      "image/png": "[encoded data removed]",
      "text/plain": [
       "<Figure size 640x480 with 1 Axes>"
      ]
     },
     "metadata": {},
     "output_type": "display_data"
    }
   ],
   "source": [
    "poly_regression(6)"
   ]
  },
  {
   "cell_type": "code",
   "execution_count": 2,
   "id": "50d60f7a-6415-4471-97dd-ff80eafba82c",
   "metadata": {},
   "outputs": [
    {
     "data": {
      "image/png": "[encoded data removed]",
      "text/plain": [
       "<Figure size 640x480 with 1 Axes>"
      ]
     },
     "metadata": {},
     "output_type": "display_data"
    }
   ],
   "source": [
    "import numpy as np\n",
    "import matplotlib.pyplot as plt\n",
    "from sklearn.preprocessing import PolynomialFeatures\n",
    "from sklearn.linear_model import LinearRegression\n",
    "from sklearn.pipeline import make_pipeline\n",
    "\n",
    "# Generate synthetic data\n",
    "np.random.seed(42)\n",
    "X = 2 * np.random.rand(100, 1)\n",
    "y = 0.5 * X**2 + X + 2 + np.random.randn(100, 1)\n",
    "\n",
    "# Fit polynomial regression model\n",
    "degree = 2  # Degree of the polynomial\n",
    "model = make_pipeline(PolynomialFeatures(degree), LinearRegression())\n",
    "model.fit(X, y)\n",
    "\n",
    "# Make predictions on new data\n",
    "X_new = np.linspace(0, 2, 100).reshape(-1, 1)\n",
    "y_pred = model.predict(X_new)\n",
    "\n",
    "# Plot the data and the polynomial regression curve\n",
    "plt.scatter(X, y, label='Original data')\n",
    "plt.plot(X_new, y_pred, 'r-', label=f'Polynomial Regression (Degree {degree})')\n",
    "plt.xlabel('X')\n",
    "plt.ylabel('y')\n",
    "plt.legend()\n",
    "plt.show()\n"
   ]
  },
  {
   "cell_type": "code",
   "execution_count": null,
   "id": "11bfd0b4-6630-478d-9090-eabe7e9dc3be",
   "metadata": {},
   "outputs": [],
   "source": []
  }
 ],
 "metadata": {
  "kernelspec": {
   "display_name": "Python 3 (ipykernel)",
   "language": "python",
   "name": "python3"
  },
  "language_info": {
   "codemirror_mode": {
    "name": "ipython",
    "version": 3
   },
   "file_extension": ".py",
   "mimetype": "text/x-python",
   "name": "python",
   "nbconvert_exporter": "python",
   "pygments_lexer": "ipython3",
   "version": "3.12.1"
  }
 },
 "nbformat": 4,
 "nbformat_minor": 5
}
